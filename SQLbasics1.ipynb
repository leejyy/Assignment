{
  "nbformat": 4,
  "nbformat_minor": 0,
  "metadata": {
    "colab": {
      "name": "SQLbasics1.ipynb",
      "provenance": [],
      "mount_file_id": "https://github.com/leejyy/Assignment/blob/master/SQLbasics1.ipynb",
      "authorship_tag": "ABX9TyPpVh748QUfSSHq3EoffCyT",
      "include_colab_link": true
    },
    "kernelspec": {
      "name": "python3",
      "display_name": "Python 3"
    }
  },
  "cells": [
    {
      "cell_type": "markdown",
      "metadata": {
        "id": "view-in-github",
        "colab_type": "text"
      },
      "source": [
        "<a href=\"https://colab.research.google.com/github/leejyy/Assignment/blob/master/SQLbasics1.ipynb\" target=\"_parent\"><img src=\"https://colab.research.google.com/assets/colab-badge.svg\" alt=\"Open In Colab\"/></a>"
      ]
    },
    {
      "cell_type": "code",
      "metadata": {
        "id": "hJ6xtYFx-P78"
      },
      "source": [
        "import sqlite3"
      ],
      "execution_count": 4,
      "outputs": []
    },
    {
      "cell_type": "code",
      "metadata": {
        "colab": {
          "base_uri": "https://localhost:8080/"
        },
        "id": "WrMRRUe7-cfi",
        "outputId": "e5392efb-080b-4dfb-ca3e-47521f73d9bf"
      },
      "source": [
        "try:\r\n",
        "    conn=sqlite3.connect(\"/content/drive/MyDrive/Colab Notebooks/projects/database/database.db\")\r\n",
        "    cursor=conn.cursor()\r\n",
        "    print(\"created\")\r\n",
        "    cursor.close()\r\n",
        "except sqlite3.Error as error:\r\n",
        "    print(\"Error\")\r\n",
        "finally:\r\n",
        "    if(conn):\r\n",
        "      conn.close()\r\n",
        "      print(\"closed\")\r\n"
      ],
      "execution_count": 5,
      "outputs": [
        {
          "output_type": "stream",
          "text": [
            "created\n",
            "closed\n"
          ],
          "name": "stdout"
        }
      ]
    },
    {
      "cell_type": "code",
      "metadata": {
        "colab": {
          "base_uri": "https://localhost:8080/"
        },
        "id": "5FwSSyBa-zB9",
        "outputId": "a50b2f3c-e00b-4ed3-d016-bece99121acd"
      },
      "source": [
        "try:\r\n",
        "  conn=sqlite3.connect(\"/content/drive/MyDrive/Colab Notebooks/projects/database/database.db\")\r\n",
        "  createtable='''CREATE TABLE Dept(deptid INTEGER PRIMARY KEY AUTOINCREMENT, deptname TEXT（20）NOT NULL,deptstr INTEGER, Deptprograms TEXT(20));'''\r\n",
        "  cursor=conn.cursor()\r\n",
        "  cursor.execute(createtable)\r\n",
        "  conn.commit()\r\n",
        "  print(\"Created\")\r\n",
        "  cursor.close()\r\n",
        "\r\n",
        "except sqlite3.Error as error:\r\n",
        "    print(\"Error\",error)\r\n",
        "finally:\r\n",
        "    if(conn):\r\n",
        "      conn.close()\r\n",
        "      print(\"Sqlite connection is closed\")\r\n",
        "\r\n"
      ],
      "execution_count": 6,
      "outputs": [
        {
          "output_type": "stream",
          "text": [
            "Error table Dept already exists\n",
            "Sqlite connection is closed\n"
          ],
          "name": "stdout"
        }
      ]
    },
    {
      "cell_type": "code",
      "metadata": {
        "id": "1eOT3ge5JM57",
        "outputId": "a70c6dde-c8a5-406a-fbd2-32a7905c06d9",
        "colab": {
          "base_uri": "https://localhost:8080/"
        }
      },
      "source": [
        "conn=sqlite3.connect(\"/content/drive/MyDrive/Colab Notebooks/projects/database/database.db\")\r\n",
        "query=\"INSERT into STD(name,age,dept)values ('bob','20','CS');\"\r\n",
        "try:\r\n",
        "  cursor=conn.cursor()\r\n",
        "  cursor.execute(query)\r\n",
        "  conn.commit()\r\n",
        "  print(\"Our record is insertrf into database\")\r\n",
        "except:\r\n",
        "  print(\"Error in database insert record\")\r\n",
        "  conn.rollback()\r\n",
        "conn.close()"
      ],
      "execution_count": 8,
      "outputs": [
        {
          "output_type": "stream",
          "text": [
            "Error in database insert record\n"
          ],
          "name": "stdout"
        }
      ]
    },
    {
      "cell_type": "code",
      "metadata": {
        "id": "x-qCvYxF5oPP",
        "outputId": "d9cb3152-fd75-457a-b285-838a95c54a9a",
        "colab": {
          "base_uri": "https://localhost:8080/"
        }
      },
      "source": [
        "try:\r\n",
        "    conn=sqlite3.connect(\"/content/drive/MyDrive/Colab Notebooks/projects/database/customers.db\")\r\n",
        "    cursor=conn.cursor()\r\n",
        "    print(\"created\")\r\n",
        "    cursor.close()\r\n",
        "except sqlite3.Error as error:\r\n",
        "    print(\"Error\")\r\n",
        "finally:\r\n",
        "    if(conn):\r\n",
        "      conn.close()\r\n",
        "      print(\"closed\")\r\n"
      ],
      "execution_count": 9,
      "outputs": [
        {
          "output_type": "stream",
          "text": [
            "created\n",
            "closed\n"
          ],
          "name": "stdout"
        }
      ]
    },
    {
      "cell_type": "code",
      "metadata": {
        "id": "yOnZmWzQ6sLh"
      },
      "source": [
        "from sqlite3 import Error"
      ],
      "execution_count": 10,
      "outputs": []
    },
    {
      "cell_type": "code",
      "metadata": {
        "id": "Nhd5uxZT9sF_"
      },
      "source": [
        "def sql_connection():\r\n",
        "  try:\r\n",
        "     conn=sqlite3.connect(\"/content/drive/MyDrive/Colab Notebooks/projects/database/customers.db\")\r\n",
        "     print(\"connection don...Database is create\")\r\n",
        "  except:\r\n",
        "    print(\"Error in creating Database\")\r\n",
        "  finally:\r\n",
        "    if(conn):\r\n",
        "      conn.close()\r\n",
        "      print(\"sqlite connection is closed\")\r\n",
        "\r\n",
        "  sql_connection()\r\n"
      ],
      "execution_count": 13,
      "outputs": []
    },
    {
      "cell_type": "code",
      "metadata": {
        "id": "9NCEpAQ_-tMZ"
      },
      "source": [
        "def sql_connection():\r\n",
        "  try:\r\n",
        "     conn=sqlite3.connect(\"/content/drive/MyDrive/Colab Notebooks/projects/database/customers.db\")\r\n",
        "     #print(\"connection don...Database is create\")\r\n",
        "     return conn\r\n",
        "  except:\r\n",
        "    print(\"Error in creating Database\")\r\n",
        "  \r\n",
        "def sql_table(conn):\r\n",
        "  cursor_obj=conn.cursor()\r\n",
        "  cursor_obj.execute(\"CREATE TABLE employees(id integer PRIMARY KEY, name text, salary real, department text, position text, hireDate text)\")\r\n",
        "  conn.commit()\r\n",
        "\r\n",
        "conn=sql_connection()\r\n",
        "sql_table(conn)"
      ],
      "execution_count": 17,
      "outputs": []
    },
    {
      "cell_type": "code",
      "metadata": {
        "id": "jUjJjMLrCEfo"
      },
      "source": [
        ""
      ],
      "execution_count": null,
      "outputs": []
    }
  ]
}