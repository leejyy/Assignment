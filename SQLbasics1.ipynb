{
  "nbformat": 4,
  "nbformat_minor": 0,
  "metadata": {
    "colab": {
      "name": "SQLbasics1.ipynb",
      "provenance": [],
      "mount_file_id": "1IcyDTi7jmv3hF3iPDK11Jx-E2fn2bD8x",
      "authorship_tag": "ABX9TyNwnOJO+TZ0R04xtTFm8FqU",
      "include_colab_link": true
    },
    "kernelspec": {
      "name": "python3",
      "display_name": "Python 3"
    }
  },
  "cells": [
    {
      "cell_type": "markdown",
      "metadata": {
        "id": "view-in-github",
        "colab_type": "text"
      },
      "source": [
        "<a href=\"https://colab.research.google.com/github/leejyy/Assignment/blob/master/SQLbasics1.ipynb\" target=\"_parent\"><img src=\"https://colab.research.google.com/assets/colab-badge.svg\" alt=\"Open In Colab\"/></a>"
      ]
    },
    {
      "cell_type": "code",
      "metadata": {
        "id": "hJ6xtYFx-P78"
      },
      "source": [
        "import sqlite3"
      ],
      "execution_count": 1,
      "outputs": []
    },
    {
      "cell_type": "code",
      "metadata": {
        "colab": {
          "base_uri": "https://localhost:8080/"
        },
        "id": "WrMRRUe7-cfi",
        "outputId": "ac0d3d26-c62b-439e-f542-98a5cc1d9354"
      },
      "source": [
        "try:\r\n",
        "    conn=sqlite3.connect(\"/content/drive/MyDrive/Colab Notebooks/projects/database/database.db\")\r\n",
        "    cursor=conn.cursor()\r\n",
        "    print(\"created\")\r\n",
        "    cursor.close()\r\n",
        "except sqlite3.Error as error:\r\n",
        "    print(\"Error\")\r\n",
        "finally:\r\n",
        "    if(conn):\r\n",
        "      conn.close()\r\n",
        "      print(\"closed\")\r\n"
      ],
      "execution_count": 5,
      "outputs": [
        {
          "output_type": "stream",
          "text": [
            "created\n",
            "closed\n"
          ],
          "name": "stdout"
        }
      ]
    },
    {
      "cell_type": "code",
      "metadata": {
        "colab": {
          "base_uri": "https://localhost:8080/"
        },
        "id": "5FwSSyBa-zB9",
        "outputId": "f6785a51-ba33-43a9-b447-e7320ed7ddab"
      },
      "source": [
        "try:\r\n",
        "  conn=sqlite3.connect(\"/content/drive/MyDrive/Colab Notebooks/projects/database/database.db\")\r\n",
        "  createtable='''CREATE TABLE Dept(deptid INTEGER PRIMARY KEY AUTOINCREMENT, deptname TEXT（20）NOT NULL,deptstr INTEGER, Deptprograms TEXT(20));'''\r\n",
        "  cursor=conn.cursor()\r\n",
        "  cursor.execute(createtable)\r\n",
        "  conn.commit()\r\n",
        "  print(\"Created\")\r\n",
        "  cursor.close()\r\n",
        "\r\n",
        "except sqlite3.Error as error:\r\n",
        "    print(\"Error\",error)\r\n",
        "finally:\r\n",
        "    if(conn):\r\n",
        "      conn.close()\r\n",
        "      print(\"Sqlite connection is closed\")\r\n",
        "\r\n"
      ],
      "execution_count": 9,
      "outputs": [
        {
          "output_type": "stream",
          "text": [
            "Created\n",
            "Sqlite connection is closed\n"
          ],
          "name": "stdout"
        }
      ]
    },
    {
      "cell_type": "code",
      "metadata": {
        "id": "1eOT3ge5JM57"
      },
      "source": [
        "conn="
      ],
      "execution_count": null,
      "outputs": []
    }
  ]
}