{
  "nbformat": 4,
  "nbformat_minor": 0,
  "metadata": {
    "colab": {
      "name": "Untitled4.ipynb",
      "provenance": [],
      "authorship_tag": "ABX9TyN0GDnvhlFnbVETIrKoZe1h",
      "include_colab_link": true
    },
    "kernelspec": {
      "name": "python3",
      "display_name": "Python 3"
    }
  },
  "cells": [
    {
      "cell_type": "markdown",
      "metadata": {
        "id": "view-in-github",
        "colab_type": "text"
      },
      "source": [
        "<a href=\"https://colab.research.google.com/github/leejyy/Assignment/blob/master/Untitled4.ipynb\" target=\"_parent\"><img src=\"https://colab.research.google.com/assets/colab-badge.svg\" alt=\"Open In Colab\"/></a>"
      ]
    },
    {
      "cell_type": "code",
      "metadata": {
        "id": "MrL95cngFjnh"
      },
      "source": [
        "def sum_integers(num):\r\n",
        "  sum=0\r\n",
        "  if num!=int (num):\r\n",
        "    print(\"wrong input...BYE!\")\r\n",
        "  else:\r\n",
        "    for x in range (num+1):\r\n",
        "      sum=sum+1\r\n",
        "  print(f'The sum is, {sum}')"
      ],
      "execution_count": 1,
      "outputs": []
    },
    {
      "cell_type": "code",
      "metadata": {
        "colab": {
          "base_uri": "https://localhost:8080/"
        },
        "id": "7_J-gI6GF873",
        "outputId": "40633666-31c0-404b-823b-e346569e197c"
      },
      "source": [
        "sum_integers(0.5)"
      ],
      "execution_count": 2,
      "outputs": [
        {
          "output_type": "stream",
          "text": [
            "wrong input...BYE!\n",
            "The sum is, 0\n"
          ],
          "name": "stdout"
        }
      ]
    },
    {
      "cell_type": "code",
      "metadata": {
        "id": "zDWfcRBcF95K"
      },
      "source": [
        ""
      ],
      "execution_count": null,
      "outputs": []
    }
  ]
}